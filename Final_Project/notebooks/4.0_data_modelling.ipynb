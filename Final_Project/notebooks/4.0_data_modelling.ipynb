{
 "cells": [
  {
   "cell_type": "markdown",
   "metadata": {},
   "source": [
    "<div style=\"text-align: center; background-color: #0A6EBD; font-family: 'Trebuchet MS', Arial, sans-serif; color: white; padding: \n",
    "    20px; font-size: 40px; font-weight: bold; border-radius: 0 0 0 0; box-shadow: 0px 6px 8px rgba(0, 0, 0, 0.2);\">\n",
    "  Final Project - Introduction To Data Science <br> 📌 FIT-HCMUS, VNU-HCM 📌\n",
    "</div>"
   ]
  },
  {
   "cell_type": "markdown",
   "metadata": {},
   "source": [
    "<div style=\"text-align: center; background-color: #b1d1ff; font-family: 'Trebuchet MS', Arial, sans-serif; color: white; padding: 20px; font-size: 40px; font-weight: bold; border-radius: 0 0 0 0; box-shadow: 0px 6px 8px rgba(0, 0, 0, 0.2);\">\n",
    "  Stage 4.0 - Data modelling\n",
    "</div>"
   ]
  },
  {
   "cell_type": "markdown",
   "metadata": {},
   "source": [
    "## Import"
   ]
  },
  {
   "cell_type": "code",
   "execution_count": 21,
   "metadata": {},
   "outputs": [],
   "source": [
    "from sklearn.linear_model import LinearRegression\n",
    "from sklearn.ensemble import RandomForestRegressor, GradientBoostingRegressor\n",
    "from sklearn.tree import DecisionTreeRegressor\n",
    "import xgboost as xg\n",
    "from sklearn.model_selection import train_test_split\n",
    "from sklearn.preprocessing import LabelEncoder\n",
    "import pandas as pd\n",
    "from src.visualization_module.visualize import Visualize\n",
    "from src.models_module.predict_model import *\n",
    "from src.models_module.train_model import *\n",
    "from models.model import *"
   ]
  },
  {
   "cell_type": "markdown",
   "metadata": {},
   "source": [
    "## Data Preparation"
   ]
  },
  {
   "cell_type": "code",
   "execution_count": 22,
   "metadata": {},
   "outputs": [
    {
     "data": {
      "text/html": [
       "<div>\n",
       "<style scoped>\n",
       "    .dataframe tbody tr th:only-of-type {\n",
       "        vertical-align: middle;\n",
       "    }\n",
       "\n",
       "    .dataframe tbody tr th {\n",
       "        vertical-align: top;\n",
       "    }\n",
       "\n",
       "    .dataframe thead th {\n",
       "        text-align: right;\n",
       "    }\n",
       "</style>\n",
       "<table border=\"1\" class=\"dataframe\">\n",
       "  <thead>\n",
       "    <tr style=\"text-align: right;\">\n",
       "      <th></th>\n",
       "      <th>Giá</th>\n",
       "      <th>Diện tích</th>\n",
       "      <th>Số phòng ngủ</th>\n",
       "      <th>Số toilet</th>\n",
       "      <th>Địa chỉ nhà</th>\n",
       "      <th>Ngày đăng tin</th>\n",
       "      <th>Ngày hết hạn</th>\n",
       "      <th>Mã tin</th>\n",
       "      <th>Quận</th>\n",
       "      <th>Đường</th>\n",
       "      <th>Lượt xem</th>\n",
       "    </tr>\n",
       "  </thead>\n",
       "  <tbody>\n",
       "    <tr>\n",
       "      <th>0</th>\n",
       "      <td>6.5</td>\n",
       "      <td>14.0</td>\n",
       "      <td>0</td>\n",
       "      <td>0</td>\n",
       "      <td>Dự án The Prince Residence, Đường Nguyễn Văn T...</td>\n",
       "      <td>2023-06-23</td>\n",
       "      <td>2023-07-08</td>\n",
       "      <td>9122</td>\n",
       "      <td>Quận Phú Nhuận</td>\n",
       "      <td>Đường Nguyễn Văn Trỗi</td>\n",
       "      <td>35</td>\n",
       "    </tr>\n",
       "    <tr>\n",
       "      <th>1</th>\n",
       "      <td>8.0</td>\n",
       "      <td>68.0</td>\n",
       "      <td>2</td>\n",
       "      <td>2</td>\n",
       "      <td>Dự án Q7 Saigon Riverside, Đường Đào Trí, Phườ...</td>\n",
       "      <td>2023-06-16</td>\n",
       "      <td>2023-07-01</td>\n",
       "      <td>8478</td>\n",
       "      <td>Quận 7</td>\n",
       "      <td>Đường Đào Trí</td>\n",
       "      <td>74</td>\n",
       "    </tr>\n",
       "    <tr>\n",
       "      <th>2</th>\n",
       "      <td>1.3</td>\n",
       "      <td>30.0</td>\n",
       "      <td>0</td>\n",
       "      <td>0</td>\n",
       "      <td>Đường D5, Phường 25, Bình Thạnh, Hồ Chí Minh</td>\n",
       "      <td>2023-08-07</td>\n",
       "      <td>2023-08-22</td>\n",
       "      <td>11591</td>\n",
       "      <td>Quận Bình Thạnh</td>\n",
       "      <td>Đường D5</td>\n",
       "      <td>88</td>\n",
       "    </tr>\n",
       "    <tr>\n",
       "      <th>3</th>\n",
       "      <td>10.0</td>\n",
       "      <td>80.0</td>\n",
       "      <td>2</td>\n",
       "      <td>2</td>\n",
       "      <td>Đường Tạ Quang Bửu, Phường 6, Quận 8, Hồ Chí Minh</td>\n",
       "      <td>2023-06-16</td>\n",
       "      <td>2023-07-01</td>\n",
       "      <td>8580</td>\n",
       "      <td>Quận 8</td>\n",
       "      <td>Đường Tạ Quang Bửu</td>\n",
       "      <td>48</td>\n",
       "    </tr>\n",
       "    <tr>\n",
       "      <th>4</th>\n",
       "      <td>35.0</td>\n",
       "      <td>120.0</td>\n",
       "      <td>5</td>\n",
       "      <td>4</td>\n",
       "      <td>178A Đường Phan Đăng Lưu, Phường 3, Phú Nhuận,...</td>\n",
       "      <td>2023-03-16</td>\n",
       "      <td>2023-03-31</td>\n",
       "      <td>4467</td>\n",
       "      <td>Quận Phú Nhuận</td>\n",
       "      <td>Đường Phan Đăng Lưu</td>\n",
       "      <td>30</td>\n",
       "    </tr>\n",
       "    <tr>\n",
       "      <th>...</th>\n",
       "      <td>...</td>\n",
       "      <td>...</td>\n",
       "      <td>...</td>\n",
       "      <td>...</td>\n",
       "      <td>...</td>\n",
       "      <td>...</td>\n",
       "      <td>...</td>\n",
       "      <td>...</td>\n",
       "      <td>...</td>\n",
       "      <td>...</td>\n",
       "      <td>...</td>\n",
       "    </tr>\n",
       "    <tr>\n",
       "      <th>13284</th>\n",
       "      <td>22.0</td>\n",
       "      <td>76.0</td>\n",
       "      <td>5</td>\n",
       "      <td>4</td>\n",
       "      <td>128A Đường Bành Văn Trân, Phường 7, Tân Bình, ...</td>\n",
       "      <td>2023-05-17</td>\n",
       "      <td>2023-06-01</td>\n",
       "      <td>6623</td>\n",
       "      <td>Quận Tân Bình</td>\n",
       "      <td>Đường Bành Văn Trân</td>\n",
       "      <td>57</td>\n",
       "    </tr>\n",
       "    <tr>\n",
       "      <th>13285</th>\n",
       "      <td>8.0</td>\n",
       "      <td>66.0</td>\n",
       "      <td>2</td>\n",
       "      <td>2</td>\n",
       "      <td>Dự án Q7 Saigon Riverside, Đường Đào Trí, Phườ...</td>\n",
       "      <td>2023-06-16</td>\n",
       "      <td>2023-07-01</td>\n",
       "      <td>8479</td>\n",
       "      <td>Quận 7</td>\n",
       "      <td>Đường Đào Trí</td>\n",
       "      <td>77</td>\n",
       "    </tr>\n",
       "    <tr>\n",
       "      <th>13286</th>\n",
       "      <td>11.0</td>\n",
       "      <td>125.0</td>\n",
       "      <td>0</td>\n",
       "      <td>0</td>\n",
       "      <td>Đường Thạnh Xuân 25, Phường Thạnh Xuân, Quận 1...</td>\n",
       "      <td>2023-07-17</td>\n",
       "      <td>2023-08-01</td>\n",
       "      <td>10408</td>\n",
       "      <td>Quận 12</td>\n",
       "      <td>Đường Thạnh Xuân 25</td>\n",
       "      <td>72</td>\n",
       "    </tr>\n",
       "    <tr>\n",
       "      <th>13287</th>\n",
       "      <td>16.0</td>\n",
       "      <td>300.0</td>\n",
       "      <td>0</td>\n",
       "      <td>0</td>\n",
       "      <td>Đường Nguyễn Ảnh Thủ, Phường Hiệp Thành, Quận ...</td>\n",
       "      <td>2023-08-25</td>\n",
       "      <td>2023-09-09</td>\n",
       "      <td>12585</td>\n",
       "      <td>Quận 12</td>\n",
       "      <td>Đường Nguyễn Ảnh Thủ</td>\n",
       "      <td>66</td>\n",
       "    </tr>\n",
       "    <tr>\n",
       "      <th>13288</th>\n",
       "      <td>12.0</td>\n",
       "      <td>300.0</td>\n",
       "      <td>0</td>\n",
       "      <td>0</td>\n",
       "      <td>Đường Thạnh Xuân 52, Phường Thạnh Xuân, Quận 1...</td>\n",
       "      <td>2023-07-17</td>\n",
       "      <td>2023-08-01</td>\n",
       "      <td>10409</td>\n",
       "      <td>Quận 12</td>\n",
       "      <td>Đường Thạnh Xuân 52</td>\n",
       "      <td>77</td>\n",
       "    </tr>\n",
       "  </tbody>\n",
       "</table>\n",
       "<p>13289 rows × 11 columns</p>\n",
       "</div>"
      ],
      "text/plain": [
       "        Giá  Diện tích  Số phòng ngủ  Số toilet  \\\n",
       "0       6.5       14.0             0          0   \n",
       "1       8.0       68.0             2          2   \n",
       "2       1.3       30.0             0          0   \n",
       "3      10.0       80.0             2          2   \n",
       "4      35.0      120.0             5          4   \n",
       "...     ...        ...           ...        ...   \n",
       "13284  22.0       76.0             5          4   \n",
       "13285   8.0       66.0             2          2   \n",
       "13286  11.0      125.0             0          0   \n",
       "13287  16.0      300.0             0          0   \n",
       "13288  12.0      300.0             0          0   \n",
       "\n",
       "                                             Địa chỉ nhà Ngày đăng tin  \\\n",
       "0      Dự án The Prince Residence, Đường Nguyễn Văn T...    2023-06-23   \n",
       "1      Dự án Q7 Saigon Riverside, Đường Đào Trí, Phườ...    2023-06-16   \n",
       "2           Đường D5, Phường 25, Bình Thạnh, Hồ Chí Minh    2023-08-07   \n",
       "3      Đường Tạ Quang Bửu, Phường 6, Quận 8, Hồ Chí Minh    2023-06-16   \n",
       "4      178A Đường Phan Đăng Lưu, Phường 3, Phú Nhuận,...    2023-03-16   \n",
       "...                                                  ...           ...   \n",
       "13284  128A Đường Bành Văn Trân, Phường 7, Tân Bình, ...    2023-05-17   \n",
       "13285  Dự án Q7 Saigon Riverside, Đường Đào Trí, Phườ...    2023-06-16   \n",
       "13286  Đường Thạnh Xuân 25, Phường Thạnh Xuân, Quận 1...    2023-07-17   \n",
       "13287  Đường Nguyễn Ảnh Thủ, Phường Hiệp Thành, Quận ...    2023-08-25   \n",
       "13288  Đường Thạnh Xuân 52, Phường Thạnh Xuân, Quận 1...    2023-07-17   \n",
       "\n",
       "      Ngày hết hạn  Mã tin             Quận                  Đường  Lượt xem  \n",
       "0       2023-07-08    9122   Quận Phú Nhuận  Đường Nguyễn Văn Trỗi        35  \n",
       "1       2023-07-01    8478           Quận 7          Đường Đào Trí        74  \n",
       "2       2023-08-22   11591  Quận Bình Thạnh               Đường D5        88  \n",
       "3       2023-07-01    8580           Quận 8     Đường Tạ Quang Bửu        48  \n",
       "4       2023-03-31    4467   Quận Phú Nhuận    Đường Phan Đăng Lưu        30  \n",
       "...            ...     ...              ...                    ...       ...  \n",
       "13284   2023-06-01    6623    Quận Tân Bình    Đường Bành Văn Trân        57  \n",
       "13285   2023-07-01    8479           Quận 7          Đường Đào Trí        77  \n",
       "13286   2023-08-01   10408          Quận 12    Đường Thạnh Xuân 25        72  \n",
       "13287   2023-09-09   12585          Quận 12   Đường Nguyễn Ảnh Thủ        66  \n",
       "13288   2023-08-01   10409          Quận 12    Đường Thạnh Xuân 52        77  \n",
       "\n",
       "[13289 rows x 11 columns]"
      ]
     },
     "execution_count": 22,
     "metadata": {},
     "output_type": "execute_result"
    }
   ],
   "source": [
    "data = pd.read_csv('/University/INTRO_2_DS/Final_Project/data/processed/preproces_data.csv')\n",
    "data"
   ]
  },
  {
   "cell_type": "markdown",
   "metadata": {},
   "source": [
    "## Check Data Type"
   ]
  },
  {
   "cell_type": "code",
   "execution_count": 23,
   "metadata": {},
   "outputs": [
    {
     "data": {
      "text/plain": [
       "Giá              float64\n",
       "Diện tích        float64\n",
       "Số phòng ngủ       int64\n",
       "Số toilet          int64\n",
       "Địa chỉ nhà       object\n",
       "Ngày đăng tin     object\n",
       "Ngày hết hạn      object\n",
       "Mã tin             int64\n",
       "Quận              object\n",
       "Đường             object\n",
       "Lượt xem           int64\n",
       "dtype: object"
      ]
     },
     "execution_count": 23,
     "metadata": {},
     "output_type": "execute_result"
    }
   ],
   "source": [
    "data.dtypes"
   ]
  },
  {
   "cell_type": "markdown",
   "metadata": {},
   "source": [
    "## Feature Engineering"
   ]
  },
  {
   "cell_type": "markdown",
   "metadata": {},
   "source": [
    "- Chuyển dữ liệu về kiểu phù hợp cho model"
   ]
  },
  {
   "cell_type": "code",
   "execution_count": 24,
   "metadata": {},
   "outputs": [],
   "source": [
    "label_encoder = LabelEncoder()\n",
    "for i in data.columns:\n",
    "    if type(data[i][0]) == str:\n",
    "        data[i] = label_encoder.fit_transform(data[i])\n",
    "        \n",
    "X = data.drop(['Giá', 'Ngày đăng tin', 'Ngày hết hạn', 'Mã tin', 'Lượt xem', 'Địa chỉ nhà'], axis = 1)\n",
    "y = data['Giá']\n",
    "        \n",
    "X_train, X_test, y_train, y_test = train_test_split(X, y, test_size = 0.3, shuffle = True)"
   ]
  },
  {
   "cell_type": "markdown",
   "metadata": {},
   "source": [
    "## Prediction"
   ]
  },
  {
   "cell_type": "markdown",
   "metadata": {},
   "source": [
    "- Dự đoán trên từng loại model"
   ]
  },
  {
   "cell_type": "code",
   "execution_count": 30,
   "metadata": {},
   "outputs": [],
   "source": [
    "y_pred = Linear_Regression(X_test, X_train, y_train)"
   ]
  },
  {
   "cell_type": "code",
   "execution_count": 31,
   "metadata": {},
   "outputs": [],
   "source": [
    "y_pred_1 = Random_Forest(X_test, X_train, y_train)"
   ]
  },
  {
   "cell_type": "code",
   "execution_count": 32,
   "metadata": {},
   "outputs": [],
   "source": [
    "y_pred_2 = Decision_Tree(X_test, X_train, y_train)"
   ]
  },
  {
   "cell_type": "code",
   "execution_count": 33,
   "metadata": {},
   "outputs": [],
   "source": [
    "y_pred_3 = Gradient_Boosting(X_test, X_train, y_train)"
   ]
  },
  {
   "cell_type": "code",
   "execution_count": 34,
   "metadata": {},
   "outputs": [],
   "source": [
    "y_pred_4 = XGBoost(X_test, X_train, y_train)"
   ]
  },
  {
   "cell_type": "markdown",
   "metadata": {},
   "source": [
    "## Evaluation"
   ]
  },
  {
   "cell_type": "markdown",
   "metadata": {},
   "source": [
    "- Các đánh giá mô hình dựa trên nhiều công thức"
   ]
  },
  {
   "cell_type": "code",
   "execution_count": 35,
   "metadata": {},
   "outputs": [
    {
     "name": "stdout",
     "output_type": "stream",
     "text": [
      "Linear Regression\n",
      "MAE: 15.357391980716953\n",
      "RMSE: 24.850045454350767\n",
      "Explained Variance Score: 0.11870894637324347\n",
      "R-Squared: 0.11808518849197236\n"
     ]
    }
   ],
   "source": [
    "rmse, mae, evs, r2 = Evaluation(y_test, y_pred)\n",
    "\n",
    "print('Linear Regression')\n",
    "print(f'MAE: {mae}')\n",
    "print(f'RMSE: {rmse}')\n",
    "print(f'Explained Variance Score: {evs}')\n",
    "print(f'R-Squared: {r2}')"
   ]
  },
  {
   "cell_type": "code",
   "execution_count": 36,
   "metadata": {},
   "outputs": [
    {
     "name": "stdout",
     "output_type": "stream",
     "text": [
      "Random Forest\n",
      "MAE: 11.291088975674391\n",
      "RMSE: 20.139365386990452\n",
      "Explained Variance Score: 0.4208916731022371\n",
      "R-Squared: 0.4207529585198574\n"
     ]
    }
   ],
   "source": [
    "rmse_1, mae_1, evs_1, r2_1 = Evaluation(y_test, y_pred_1)\n",
    "\n",
    "print('Random Forest')\n",
    "print(f'MAE: {mae_1}')\n",
    "print(f'RMSE: {rmse_1}')\n",
    "print(f'Explained Variance Score: {evs_1}')\n",
    "print(f'R-Squared: {r2_1}')"
   ]
  },
  {
   "cell_type": "code",
   "execution_count": 37,
   "metadata": {},
   "outputs": [
    {
     "name": "stdout",
     "output_type": "stream",
     "text": [
      "Decision Tree\n",
      "MAE: 12.403663214483105\n",
      "RMSE: 21.50866221237616\n",
      "Explained Variance Score: 0.33990986576341176\n",
      "R-Squared: 0.3393079821855981\n"
     ]
    }
   ],
   "source": [
    "rmse_2, mae_2, evs_2, r2_2 = Evaluation(y_test, y_pred_2)\n",
    "\n",
    "print('Decision Tree')\n",
    "print(f'MAE: {mae_2}')\n",
    "print(f'RMSE: {rmse_2}')\n",
    "print(f'Explained Variance Score: {evs_2}')\n",
    "print(f'R-Squared: {r2_2}')"
   ]
  },
  {
   "cell_type": "code",
   "execution_count": 38,
   "metadata": {},
   "outputs": [
    {
     "name": "stdout",
     "output_type": "stream",
     "text": [
      "Gradient Boosting\n",
      "MAE: 11.313409830747458\n",
      "RMSE: 19.984993007312184\n",
      "Explained Variance Score: 0.4299367975694681\n",
      "R-Squared: 0.4295990201641805\n"
     ]
    }
   ],
   "source": [
    "rmse_3, mae_3, evs_3, r2_3 = Evaluation(y_test, y_pred_3)\n",
    "\n",
    "print('Gradient Boosting')\n",
    "print(f'MAE: {mae_3}')\n",
    "print(f'RMSE: {rmse_3}')\n",
    "print(f'Explained Variance Score: {evs_3}')\n",
    "print(f'R-Squared: {r2_3}')"
   ]
  },
  {
   "cell_type": "code",
   "execution_count": 39,
   "metadata": {},
   "outputs": [
    {
     "name": "stdout",
     "output_type": "stream",
     "text": [
      "XGBoost\n",
      "MAE: 11.001478886750705\n",
      "RMSE: 19.708855223290897\n",
      "Explained Variance Score: 0.4453895469521657\n",
      "R-Squared: 0.44525287498812227\n"
     ]
    }
   ],
   "source": [
    "rmse_4, mae_4, evs_4, r2_4 = Evaluation(y_test, y_pred_4)\n",
    "\n",
    "print('XGBoost')\n",
    "print(f'MAE: {mae_4}')\n",
    "print(f'RMSE: {rmse_4}')\n",
    "print(f'Explained Variance Score: {evs_4}')\n",
    "print(f'R-Squared: {r2_4}')"
   ]
  },
  {
   "cell_type": "markdown",
   "metadata": {},
   "source": [
    "## Result Analysis"
   ]
  },
  {
   "cell_type": "code",
   "execution_count": 40,
   "metadata": {},
   "outputs": [
    {
     "data": {
      "text/plain": [
       "[('XGBoost', 0.44525287498812227),\n",
       " ('Gradient Boosting', 0.4295990201641805),\n",
       " ('Random Forest', 0.4207529585198574),\n",
       " ('Decision Tree', 0.3393079821855981),\n",
       " ('Linear Regression', 0.11808518849197236)]"
      ]
     },
     "execution_count": 40,
     "metadata": {},
     "output_type": "execute_result"
    }
   ],
   "source": [
    "list_r2 = {'Linear Regression': r2,\n",
    "           'Random Forest': r2_1,\n",
    "           'Decision Tree': r2_2,\n",
    "           'Gradient Boosting': r2_3,\n",
    "           'XGBoost': r2_4}\n",
    "\n",
    "sort_list = sorted(list_r2.items(), key = lambda x:x[1], reverse = True)\n",
    "sort_list"
   ]
  },
  {
   "cell_type": "markdown",
   "metadata": {},
   "source": [
    "- Dựa vào r-squared ta có thể thấy mô hình tốt nhất là XGBoost"
   ]
  }
 ],
 "metadata": {
  "kernelspec": {
   "display_name": "venv",
   "language": "python",
   "name": "python3"
  },
  "language_info": {
   "codemirror_mode": {
    "name": "ipython",
    "version": 3
   },
   "file_extension": ".py",
   "mimetype": "text/x-python",
   "name": "python",
   "nbconvert_exporter": "python",
   "pygments_lexer": "ipython3",
   "version": "3.11.6"
  }
 },
 "nbformat": 4,
 "nbformat_minor": 2
}
