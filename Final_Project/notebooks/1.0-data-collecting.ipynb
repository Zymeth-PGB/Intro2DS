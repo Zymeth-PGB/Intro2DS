{
 "cells": [
  {
   "cell_type": "markdown",
   "metadata": {},
   "source": [
    "<div style=\"text-align: center; background-color: #0A6EBD; font-family: 'Trebuchet MS', Arial, sans-serif; color: white; padding: \n",
    "    20px; font-size: 40px; font-weight: bold; border-radius: 0 0 0 0; box-shadow: 0px 6px 8px rgba(0, 0, 0, 0.2);\">\n",
    "  Final Project - Introduction To Data Science <br> 📌 FIT-HCMUS, VNU-HCM 📌\n",
    "</div>"
   ]
  },
  {
   "cell_type": "markdown",
   "metadata": {},
   "source": [
    "<div style=\"text-align: center; background-color: #5A96E3; font-family: 'Trebuchet MS', Arial, sans-serif; color: white; padding: 20px; font-size: 40px; font-weight: bold; border-radius: 0 0 0 0; box-shadow: 0px 6px 8px rgba(0, 0, 0, 0.2);\">\n",
    "  Stage 1.0 - Data Collecting 📌\n",
    "</div>"
   ]
  },
  {
   "cell_type": "markdown",
   "metadata": {},
   "source": []
  },
  {
   "cell_type": "markdown",
   "metadata": {},
   "source": [
    "## Lib for crawl and save data"
   ]
  },
  {
   "cell_type": "code",
   "execution_count": null,
   "metadata": {},
   "outputs": [],
   "source": [
    "from bs4 import BeautifulSoup\n",
    "import numpy as np\n",
    "import pandas as pd\n",
    "import requests\n",
    "import selenium as sn\n",
    "from time import sleep\n",
    "import random\n",
    "from selenium.webdriver.common.by import By"
   ]
  },
  {
   "cell_type": "markdown",
   "metadata": {},
   "source": [
    "## Crawl Data"
   ]
  },
  {
   "cell_type": "code",
   "execution_count": null,
   "metadata": {},
   "outputs": [],
   "source": [
    "BASE_URL = \"https://chothuenha.com.vn/\"\n",
    "\n",
    "driver = sn.webdriver.Chrome()\n",
    "\n",
    "page = '&page='\n",
    "\n",
    "links = []\n",
    "\n",
    "for i in range(1, 101, 1):\n",
    "    if i == 1:\n",
    "        driver.get(BASE_URL)\n",
    "    else:\n",
    "        driver.get(BASE_URL + page + f'{i}')\n",
    "        \n",
    "    sleep(random.randint(5, 10))\n",
    "    \n",
    "    elems = driver.find_elements(By.CSS_SELECTOR, '.home-title [href]')\n",
    "    temp = [elem.get_attribute('href') for elem in elems]\n",
    "    links.append(temp)"
   ]
  },
  {
   "cell_type": "code",
   "execution_count": null,
   "metadata": {},
   "outputs": [],
   "source": [
    "total_link = 0\n",
    "\n",
    "for link in links:\n",
    "    total_link += len(link)\n",
    "    \n",
    "with open('link.txt', 'w') as f:\n",
    "    for i in links:\n",
    "        for j in i:\n",
    "            f.write(j)\n",
    "            "
   ]
  },
  {
   "cell_type": "code",
   "execution_count": null,
   "metadata": {},
   "outputs": [],
   "source": [
    "data = np.loadtxt('link.txt', dtype = str)\n",
    "\n",
    "data_unique = np.unique(data)\n",
    "\n",
    "data_unique"
   ]
  },
  {
   "cell_type": "code",
   "execution_count": null,
   "metadata": {},
   "outputs": [],
   "source": [
    "driver = sn.webdriver.Chrome()\n",
    "\n",
    "cost = []\n",
    "area = []\n",
    "bed_room = []\n",
    "toilet = []\n",
    "direction_house = []\n",
    "address = []\n",
    "start_date = []\n",
    "due_date = []\n",
    "post_id = []\n",
    "district = []\n",
    "street = []\n",
    "view = []\n",
    "\n",
    "for i, link in enumerate(data_unique):\n",
    "    driver.get(link)\n",
    "    sleep(5)\n",
    "    \n",
    "    text = driver.page_source\n",
    "    \n",
    "    if text.find('Trang bạn yêu cầu không tồn tại!') == -1:\n",
    "        cost.append(driver.find_element(By.XPATH, '/html/body/div[6]/div[1]/main/section[3]/div[2]/div/div/div[3]/div/div[1]/div').text)\n",
    "        area.append(driver.find_element(By.XPATH, '/html/body/div[6]/div[1]/main/section[3]/div[2]/div/div/div[3]/div/div[2]/div[2]').text)\n",
    "        bed_room.append(driver.find_element(By.XPATH, '/html/body/div[6]/div[1]/main/section[3]/div[2]/div/div/div[3]/div/div[3]/div[2]').text)\n",
    "        direction_house.append(driver.find_element(By.XPATH, '/html/body/div[6]/div[1]/main/section[3]/div[2]/div/div/div[4]/div[2]/div[2]/div/div[5]/span[3]').text)\n",
    "        address.append(driver.find_element(By.XPATH, '/html/body/div[6]/div[1]/main/section[3]/div[2]/div/div/div[4]/div[3]/ul/div/span').text)\n",
    "        start_date.append(driver.find_element(By.XPATH, '/html/body/div[6]/div[1]/main/section[3]/div[2]/div/div/div[4]/div[4]/div/div[1]/span[2]').text)\n",
    "        due_date.append(driver.find_element(By.XPATH, '/html/body/div[6]/div[1]/main/section[3]/div[2]/div/div/div[4]/div[4]/div/div[2]/span[2]').text)\n",
    "        post_id.append(driver.find_element(By.XPATH, '/html/body/div[6]/div[1]/main/section[3]/div[2]/div/div/div[4]/div[4]/div/div[4]/span[2]').text)\n",
    "        district.append(driver.find_element(By.XPATH, '/html/body/div[6]/div[1]/header/ul/li[3]/a').text)\n",
    "        street.append(driver.find_element(By.XPATH, '/html/body/div[6]/div[1]/header/ul/li[4]/a').text)\n",
    "        view.append(driver.find_element(By.XPATH, '/html/body/div[6]/div[1]/main/section[3]/div[2]/div/div/div[2]/div[3]').text)\n",
    "        toilet.append(driver.find_element(By.XPATH, '/html/body/div[6]/div[1]/main/section[3]/div[2]/div/div/div[4]/div[2]/div[2]/div/div[4]/span[3]').text)\n",
    "    \n",
    "    print(i)\n",
    "\n",
    "driver.quit()"
   ]
  },
  {
   "cell_type": "code",
   "execution_count": null,
   "metadata": {},
   "outputs": [],
   "source": [
    "cost_rs = cost[0:5000]\n",
    "area_rs = area[0:5000]\n",
    "bed_room_rs = bed_room[0:5000]\n",
    "toilet_rs = toilet[0:5000]\n",
    "direction_house_rs = direction_house[0:5000]\n",
    "address_rs = address[0:5000]\n",
    "start_date_rs = start_date[0:5000]\n",
    "due_date_rs = due_date[0:5000]\n",
    "post_id_rs = post_id[0:5000]\n",
    "district_rs = district[0:5000]\n",
    "street_rs = street[0:5000]\n",
    "view_rs = view[0:5000]\n",
    "\n",
    "df = pd.DataFrame({\n",
    "    'Giá': cost_rs,\n",
    "    'Diện tích': area_rs,\n",
    "    'Số phòng ngủ': bed_room_rs,\n",
    "    'Số toilet': toilet_rs,\n",
    "    'Hướng nhà': direction_house_rs,\n",
    "    'Địa chỉ nhà': address_rs,\n",
    "    'Ngày đăng tin': start_date_rs,\n",
    "    'Ngày hết hạn': due_date_rs,\n",
    "    'Mã tin': post_id_rs,\n",
    "    'Quận': district_rs,\n",
    "    'Đường': street_rs,\n",
    "    'Lượt xem': view_rs\n",
    "})\n",
    "\n",
    "df.to_csv('D:/University/INTRO_2_DS/Final_Project/data/raw/rental_housing_in_HCM_city.csv', index = False)"
   ]
  }
 ],
 "metadata": {
  "kernelspec": {
   "display_name": "venv",
   "language": "python",
   "name": "python3"
  },
  "language_info": {
   "codemirror_mode": {
    "name": "ipython",
    "version": 3
   },
   "file_extension": ".py",
   "mimetype": "text/x-python",
   "name": "python",
   "nbconvert_exporter": "python",
   "pygments_lexer": "ipython3",
   "version": "3.11.6"
  }
 },
 "nbformat": 4,
 "nbformat_minor": 2
}
