{
 "cells": [
  {
   "cell_type": "code",
   "execution_count": 7,
   "metadata": {},
   "outputs": [],
   "source": [
    "import numpy as np\n",
    "import pandas as pd\n",
    "\n",
    "# YOUR CODE HERE (OPTION) \n",
    "# If you need other libraries, you can import them here\n",
    "import matplotlib.pyplot as plt"
   ]
  },
  {
   "cell_type": "code",
   "execution_count": 8,
   "metadata": {},
   "outputs": [],
   "source": [
    "# YOUR CODE HERE\n",
    "file_path = \"../data/raw/rental_housing_in_HCM_city.csv\"\n",
    "df = pd.read_csv(file_path)"
   ]
  },
  {
   "cell_type": "code",
   "execution_count": 9,
   "metadata": {},
   "outputs": [
    {
     "data": {
      "text/html": [
       "<div>\n",
       "<style scoped>\n",
       "    .dataframe tbody tr th:only-of-type {\n",
       "        vertical-align: middle;\n",
       "    }\n",
       "\n",
       "    .dataframe tbody tr th {\n",
       "        vertical-align: top;\n",
       "    }\n",
       "\n",
       "    .dataframe thead th {\n",
       "        text-align: right;\n",
       "    }\n",
       "</style>\n",
       "<table border=\"1\" class=\"dataframe\">\n",
       "  <thead>\n",
       "    <tr style=\"text-align: right;\">\n",
       "      <th></th>\n",
       "      <th>Giá</th>\n",
       "      <th>Diện tích</th>\n",
       "      <th>Số phòng ngủ</th>\n",
       "      <th>Số toilet</th>\n",
       "      <th>Hướng nhà</th>\n",
       "      <th>Địa chỉ nhà</th>\n",
       "      <th>Ngày đăng tin</th>\n",
       "      <th>Ngày hết hạn</th>\n",
       "      <th>Mã tin</th>\n",
       "      <th>Quận</th>\n",
       "      <th>Đường</th>\n",
       "      <th>Lượt xem</th>\n",
       "    </tr>\n",
       "  </thead>\n",
       "  <tbody>\n",
       "    <tr>\n",
       "      <th>0</th>\n",
       "      <td>6.5 Triệu/Tháng</td>\n",
       "      <td>14 m²</td>\n",
       "      <td>0 PN</td>\n",
       "      <td>0</td>\n",
       "      <td>---</td>\n",
       "      <td>Địa chỉ:  Dự án The Prince Residence, Đường Ng...</td>\n",
       "      <td>23/06/2023</td>\n",
       "      <td>08/07/2023</td>\n",
       "      <td>9122</td>\n",
       "      <td>Quận Phú Nhuận</td>\n",
       "      <td>Đường Nguyễn Văn Trỗi</td>\n",
       "      <td>Lượt xem: 35</td>\n",
       "    </tr>\n",
       "    <tr>\n",
       "      <th>1</th>\n",
       "      <td>8 Triệu/Tháng</td>\n",
       "      <td>68 m²</td>\n",
       "      <td>2 PN</td>\n",
       "      <td>2</td>\n",
       "      <td>---</td>\n",
       "      <td>Địa chỉ:  Dự án Q7 Saigon Riverside, Đường Đào...</td>\n",
       "      <td>16/06/2023</td>\n",
       "      <td>01/07/2023</td>\n",
       "      <td>8478</td>\n",
       "      <td>Quận 7</td>\n",
       "      <td>Đường Đào Trí</td>\n",
       "      <td>Lượt xem: 74</td>\n",
       "    </tr>\n",
       "    <tr>\n",
       "      <th>2</th>\n",
       "      <td>1.3 Triệu/Tháng</td>\n",
       "      <td>30 m²</td>\n",
       "      <td>0 PN</td>\n",
       "      <td>0</td>\n",
       "      <td>---</td>\n",
       "      <td>Địa chỉ:  Đường D5, Phường 25, Bình Thạnh, Hồ ...</td>\n",
       "      <td>07/08/2023</td>\n",
       "      <td>22/08/2023</td>\n",
       "      <td>11591</td>\n",
       "      <td>Quận Bình Thạnh</td>\n",
       "      <td>Đường D5</td>\n",
       "      <td>Lượt xem: 88</td>\n",
       "    </tr>\n",
       "    <tr>\n",
       "      <th>3</th>\n",
       "      <td>10 Triệu/Tháng</td>\n",
       "      <td>80 m²</td>\n",
       "      <td>2 PN</td>\n",
       "      <td>2</td>\n",
       "      <td>---</td>\n",
       "      <td>Địa chỉ:  Đường Tạ Quang Bửu, Phường 6, Quận 8...</td>\n",
       "      <td>16/06/2023</td>\n",
       "      <td>01/07/2023</td>\n",
       "      <td>8580</td>\n",
       "      <td>Quận 8</td>\n",
       "      <td>Đường Tạ Quang Bửu</td>\n",
       "      <td>Lượt xem: 48</td>\n",
       "    </tr>\n",
       "    <tr>\n",
       "      <th>4</th>\n",
       "      <td>35 Triệu/Tháng</td>\n",
       "      <td>120 m²</td>\n",
       "      <td>5 PN</td>\n",
       "      <td>4</td>\n",
       "      <td>---</td>\n",
       "      <td>Địa chỉ:  178A Đường Phan Đăng Lưu, Phường 3, ...</td>\n",
       "      <td>16/03/2023</td>\n",
       "      <td>31/03/2023</td>\n",
       "      <td>4467</td>\n",
       "      <td>Quận Phú Nhuận</td>\n",
       "      <td>Đường Phan Đăng Lưu</td>\n",
       "      <td>Lượt xem: 30</td>\n",
       "    </tr>\n",
       "  </tbody>\n",
       "</table>\n",
       "</div>"
      ],
      "text/plain": [
       "               Giá Diện tích Số phòng ngủ  Số toilet Hướng nhà  \\\n",
       "0  6.5 Triệu/Tháng     14 m²         0 PN          0       ---   \n",
       "1    8 Triệu/Tháng     68 m²         2 PN          2       ---   \n",
       "2  1.3 Triệu/Tháng     30 m²         0 PN          0       ---   \n",
       "3   10 Triệu/Tháng     80 m²         2 PN          2       ---   \n",
       "4   35 Triệu/Tháng    120 m²         5 PN          4       ---   \n",
       "\n",
       "                                         Địa chỉ nhà Ngày đăng tin  \\\n",
       "0  Địa chỉ:  Dự án The Prince Residence, Đường Ng...    23/06/2023   \n",
       "1  Địa chỉ:  Dự án Q7 Saigon Riverside, Đường Đào...    16/06/2023   \n",
       "2  Địa chỉ:  Đường D5, Phường 25, Bình Thạnh, Hồ ...    07/08/2023   \n",
       "3  Địa chỉ:  Đường Tạ Quang Bửu, Phường 6, Quận 8...    16/06/2023   \n",
       "4  Địa chỉ:  178A Đường Phan Đăng Lưu, Phường 3, ...    16/03/2023   \n",
       "\n",
       "  Ngày hết hạn  Mã tin             Quận                  Đường      Lượt xem  \n",
       "0   08/07/2023    9122   Quận Phú Nhuận  Đường Nguyễn Văn Trỗi  Lượt xem: 35  \n",
       "1   01/07/2023    8478           Quận 7          Đường Đào Trí  Lượt xem: 74  \n",
       "2   22/08/2023   11591  Quận Bình Thạnh               Đường D5  Lượt xem: 88  \n",
       "3   01/07/2023    8580           Quận 8     Đường Tạ Quang Bửu  Lượt xem: 48  \n",
       "4   31/03/2023    4467   Quận Phú Nhuận    Đường Phan Đăng Lưu  Lượt xem: 30  "
      ]
     },
     "execution_count": 9,
     "metadata": {},
     "output_type": "execute_result"
    }
   ],
   "source": [
    "df.head()"
   ]
  },
  {
   "cell_type": "code",
   "execution_count": 10,
   "metadata": {},
   "outputs": [
    {
     "name": "stdout",
     "output_type": "stream",
     "text": [
      "- Số dòng: 14890\n",
      "- Số cột: 12\n"
     ]
    }
   ],
   "source": [
    "# YOUR CODE HERE\n",
    "shape = None \n",
    "shape = df.shape\n",
    "print(\"- Số dòng:\", shape[0])\n",
    "print(\"- Số cột:\", shape[1])"
   ]
  },
  {
   "cell_type": "code",
   "execution_count": 11,
   "metadata": {},
   "outputs": [
    {
     "name": "stdout",
     "output_type": "stream",
     "text": [
      "- Shape của dataframe: (14890, 12)\n",
      "- Data tốt.\n"
     ]
    }
   ],
   "source": [
    "print(f\"- Shape của dataframe: {shape}\")\n",
    "\n",
    "if shape[0] > 1000:\n",
    "    print(f\"- Data tốt.\")\n",
    "else:\n",
    "    print(f\"- Data nhỏ.\")"
   ]
  },
  {
   "cell_type": "markdown",
   "metadata": {},
   "source": [
    "### Mỗi dòng có ý nghĩa gì? Có vấn đề gì nếu các dòng có ý nghĩa khác nhau?"
   ]
  },
  {
   "cell_type": "markdown",
   "metadata": {},
   "source": [
    "- Mỗi dòng trong bộ dữ liệu là thông tin về một căn nhà cho thuê riêng biệt ở TP. Hồ Chí Minh, bao gồm giá, diện tích, và địa chỉ. Sự khác biệt giữa các dòng là quan trọng vì nó phản ánh sự đa dạng của thị trường cho thuê nhà."
   ]
  },
  {
   "cell_type": "markdown",
   "metadata": {},
   "source": [
    "### **Check các dòng trùng lặp**\n"
   ]
  },
  {
   "cell_type": "code",
   "execution_count": 12,
   "metadata": {},
   "outputs": [],
   "source": [
    "num_duplicated_rows = None\n",
    "# Kiểm tra các dòng trùng lặp\n",
    "num_duplicated_rows = df.duplicated().sum()"
   ]
  },
  {
   "cell_type": "code",
   "execution_count": 13,
   "metadata": {},
   "outputs": [
    {
     "name": "stdout",
     "output_type": "stream",
     "text": [
      "- Data không có dòng trùng lặp.\n"
     ]
    }
   ],
   "source": [
    "if num_duplicated_rows == 0:\n",
    "    print(f\"- Data không có dòng trùng lặp.\")\n",
    "else:\n",
    "    if num_duplicated_rows > 1:\n",
    "        ext = \"lines\"\n",
    "    else:\n",
    "        ext = \"line\"\n",
    "    print(f\"- Data có {num_duplicated_rows} {ext} trùng lặp.\")"
   ]
  },
  {
   "cell_type": "markdown",
   "metadata": {},
   "source": [
    "### Mỗi cột có ý nghĩa gì?"
   ]
  },
  {
   "cell_type": "markdown",
   "metadata": {},
   "source": [
    "- **Giá:** Giá thuê hàng tháng.\n",
    "- **Diện tích:** Diện tích của bất động sản cho thuê, tính bằng mét vuông.\n",
    "- **Số phòng ngủ:** Số lượng phòng ngủ trong bất động sản.\n",
    "- **Số toilet:** Số lượng nhà vệ sinh trong bất động sản.\n",
    "- **Hướng nhà:** Hướng của ngôi nhà.\n",
    "- **Địa chỉ nhà:** Địa chỉ của bất động sản.\n",
    "- **Ngày đăng tin:** Ngày tin đăng được đăng.\n",
    "- **Ngày hết hạn:** Ngày hết hạn của tin đăng.\n",
    "- **Mã tin:** Mã định danh duy nhất của tin đăng.\n",
    "- **Quận:** Quận nơi bất động sản tọa lạc.\n",
    "- **Đường:** Đường nơi bất động sản tọa lạc.\n",
    "- **Lượt xem:** Số lượt xem của tin đăng.\n"
   ]
  },
  {
   "cell_type": "markdown",
   "metadata": {},
   "source": [
    "## **Check xem data có bao nhiêu giá trị bị thiếu?**"
   ]
  },
  {
   "cell_type": "code",
   "execution_count": 14,
   "metadata": {},
   "outputs": [
    {
     "name": "stdout",
     "output_type": "stream",
     "text": [
      "<class 'pandas.core.frame.DataFrame'>\n",
      "RangeIndex: 14890 entries, 0 to 14889\n",
      "Data columns (total 12 columns):\n",
      " #   Column         Non-Null Count  Dtype \n",
      "---  ------         --------------  ----- \n",
      " 0   Giá            14890 non-null  object\n",
      " 1   Diện tích      14890 non-null  object\n",
      " 2   Số phòng ngủ   14890 non-null  object\n",
      " 3   Số toilet      14890 non-null  int64 \n",
      " 4   Hướng nhà      14890 non-null  object\n",
      " 5   Địa chỉ nhà    14890 non-null  object\n",
      " 6   Ngày đăng tin  14890 non-null  object\n",
      " 7   Ngày hết hạn   14890 non-null  object\n",
      " 8   Mã tin         14890 non-null  int64 \n",
      " 9   Quận           14890 non-null  object\n",
      " 10  Đường          14854 non-null  object\n",
      " 11  Lượt xem       14890 non-null  object\n",
      "dtypes: int64(2), object(10)\n",
      "memory usage: 1.4+ MB\n"
     ]
    }
   ],
   "source": [
    "df.info()"
   ]
  },
  {
   "cell_type": "markdown",
   "metadata": {},
   "source": [
    "### **Loại của các cột**"
   ]
  },
  {
   "cell_type": "code",
   "execution_count": 15,
   "metadata": {},
   "outputs": [
    {
     "data": {
      "text/plain": [
       "Giá              object\n",
       "Diện tích        object\n",
       "Số phòng ngủ     object\n",
       "Số toilet         int64\n",
       "Hướng nhà        object\n",
       "Địa chỉ nhà      object\n",
       "Ngày đăng tin    object\n",
       "Ngày hết hạn     object\n",
       "Mã tin            int64\n",
       "Quận             object\n",
       "Đường            object\n",
       "Lượt xem         object\n",
       "dtype: object"
      ]
     },
     "execution_count": 15,
     "metadata": {},
     "output_type": "execute_result"
    }
   ],
   "source": [
    "dtypes = None\n",
    "dtypes = df.dtypes\n",
    "dtypes"
   ]
  },
  {
   "cell_type": "markdown",
   "metadata": {},
   "source": [
    "\n",
    "### **Xử lý các kiểu giá trị của bộ data theo mong muốn**"
   ]
  },
  {
   "cell_type": "code",
   "execution_count": 16,
   "metadata": {},
   "outputs": [],
   "source": [
    "# Giữ lại số \n",
    "df['Giá'] = df['Giá'].str.extract('(\\d+\\.*\\d*)').astype(float)\n",
    "\n",
    "# Giữ lại số\n",
    "df['Diện tích'] = df['Diện tích'].str.extract('(\\d+\\.*\\d*)').astype(float)\n",
    "\n",
    "# Giữ lại số\n",
    "df['Số phòng ngủ'] = df['Số phòng ngủ'].str.extract('(\\d+)').astype(int)\n",
    "\n",
    "# Xoá chữ Địa chỉ:  và giữ lại phần còn lại\n",
    "df['Địa chỉ nhà'] = df['Địa chỉ nhà'].str.replace('Địa chỉ:\\s+', '', regex=True)\n",
    "\n",
    "# Giữ lại số\n",
    "df['Lượt xem'] = df['Lượt xem'].str.extract('(\\d+)').astype(int)"
   ]
  },
  {
   "cell_type": "code",
   "execution_count": 17,
   "metadata": {},
   "outputs": [],
   "source": [
    "# Đổi kiểu dữ liệu của các cột ngày tháng sang datetime\n",
    "df['Ngày đăng tin'] = pd.to_datetime(df['Ngày đăng tin'], format='%d/%m/%Y')\n",
    "df['Ngày hết hạn'] = pd.to_datetime(df['Ngày hết hạn'], format='%d/%m/%Y')"
   ]
  },
  {
   "cell_type": "code",
   "execution_count": 18,
   "metadata": {},
   "outputs": [
    {
     "data": {
      "text/plain": [
       "Giá                     float64\n",
       "Diện tích               float64\n",
       "Số phòng ngủ              int64\n",
       "Số toilet                 int64\n",
       "Hướng nhà                object\n",
       "Địa chỉ nhà              object\n",
       "Ngày đăng tin    datetime64[ns]\n",
       "Ngày hết hạn     datetime64[ns]\n",
       "Mã tin                    int64\n",
       "Quận                     object\n",
       "Đường                    object\n",
       "Lượt xem                  int64\n",
       "dtype: object"
      ]
     },
     "execution_count": 18,
     "metadata": {},
     "output_type": "execute_result"
    }
   ],
   "source": [
    "df.dtypes"
   ]
  },
  {
   "cell_type": "code",
   "execution_count": 19,
   "metadata": {},
   "outputs": [
    {
     "data": {
      "text/html": [
       "<div>\n",
       "<style scoped>\n",
       "    .dataframe tbody tr th:only-of-type {\n",
       "        vertical-align: middle;\n",
       "    }\n",
       "\n",
       "    .dataframe tbody tr th {\n",
       "        vertical-align: top;\n",
       "    }\n",
       "\n",
       "    .dataframe thead th {\n",
       "        text-align: right;\n",
       "    }\n",
       "</style>\n",
       "<table border=\"1\" class=\"dataframe\">\n",
       "  <thead>\n",
       "    <tr style=\"text-align: right;\">\n",
       "      <th></th>\n",
       "      <th>Giá</th>\n",
       "      <th>Diện tích</th>\n",
       "      <th>Số phòng ngủ</th>\n",
       "      <th>Số toilet</th>\n",
       "      <th>Hướng nhà</th>\n",
       "      <th>Địa chỉ nhà</th>\n",
       "      <th>Ngày đăng tin</th>\n",
       "      <th>Ngày hết hạn</th>\n",
       "      <th>Mã tin</th>\n",
       "      <th>Quận</th>\n",
       "      <th>Đường</th>\n",
       "      <th>Lượt xem</th>\n",
       "    </tr>\n",
       "  </thead>\n",
       "  <tbody>\n",
       "    <tr>\n",
       "      <th>0</th>\n",
       "      <td>6.5</td>\n",
       "      <td>14.0</td>\n",
       "      <td>0</td>\n",
       "      <td>0</td>\n",
       "      <td>---</td>\n",
       "      <td>Dự án The Prince Residence, Đường Nguyễn Văn T...</td>\n",
       "      <td>2023-06-23</td>\n",
       "      <td>2023-07-08</td>\n",
       "      <td>9122</td>\n",
       "      <td>Quận Phú Nhuận</td>\n",
       "      <td>Đường Nguyễn Văn Trỗi</td>\n",
       "      <td>35</td>\n",
       "    </tr>\n",
       "    <tr>\n",
       "      <th>1</th>\n",
       "      <td>8.0</td>\n",
       "      <td>68.0</td>\n",
       "      <td>2</td>\n",
       "      <td>2</td>\n",
       "      <td>---</td>\n",
       "      <td>Dự án Q7 Saigon Riverside, Đường Đào Trí, Phườ...</td>\n",
       "      <td>2023-06-16</td>\n",
       "      <td>2023-07-01</td>\n",
       "      <td>8478</td>\n",
       "      <td>Quận 7</td>\n",
       "      <td>Đường Đào Trí</td>\n",
       "      <td>74</td>\n",
       "    </tr>\n",
       "    <tr>\n",
       "      <th>2</th>\n",
       "      <td>1.3</td>\n",
       "      <td>30.0</td>\n",
       "      <td>0</td>\n",
       "      <td>0</td>\n",
       "      <td>---</td>\n",
       "      <td>Đường D5, Phường 25, Bình Thạnh, Hồ Chí Minh</td>\n",
       "      <td>2023-08-07</td>\n",
       "      <td>2023-08-22</td>\n",
       "      <td>11591</td>\n",
       "      <td>Quận Bình Thạnh</td>\n",
       "      <td>Đường D5</td>\n",
       "      <td>88</td>\n",
       "    </tr>\n",
       "    <tr>\n",
       "      <th>3</th>\n",
       "      <td>10.0</td>\n",
       "      <td>80.0</td>\n",
       "      <td>2</td>\n",
       "      <td>2</td>\n",
       "      <td>---</td>\n",
       "      <td>Đường Tạ Quang Bửu, Phường 6, Quận 8, Hồ Chí Minh</td>\n",
       "      <td>2023-06-16</td>\n",
       "      <td>2023-07-01</td>\n",
       "      <td>8580</td>\n",
       "      <td>Quận 8</td>\n",
       "      <td>Đường Tạ Quang Bửu</td>\n",
       "      <td>48</td>\n",
       "    </tr>\n",
       "    <tr>\n",
       "      <th>4</th>\n",
       "      <td>35.0</td>\n",
       "      <td>120.0</td>\n",
       "      <td>5</td>\n",
       "      <td>4</td>\n",
       "      <td>---</td>\n",
       "      <td>178A Đường Phan Đăng Lưu, Phường 3, Phú Nhuận,...</td>\n",
       "      <td>2023-03-16</td>\n",
       "      <td>2023-03-31</td>\n",
       "      <td>4467</td>\n",
       "      <td>Quận Phú Nhuận</td>\n",
       "      <td>Đường Phan Đăng Lưu</td>\n",
       "      <td>30</td>\n",
       "    </tr>\n",
       "  </tbody>\n",
       "</table>\n",
       "</div>"
      ],
      "text/plain": [
       "    Giá  Diện tích  Số phòng ngủ  Số toilet Hướng nhà  \\\n",
       "0   6.5       14.0             0          0       ---   \n",
       "1   8.0       68.0             2          2       ---   \n",
       "2   1.3       30.0             0          0       ---   \n",
       "3  10.0       80.0             2          2       ---   \n",
       "4  35.0      120.0             5          4       ---   \n",
       "\n",
       "                                         Địa chỉ nhà Ngày đăng tin  \\\n",
       "0  Dự án The Prince Residence, Đường Nguyễn Văn T...    2023-06-23   \n",
       "1  Dự án Q7 Saigon Riverside, Đường Đào Trí, Phườ...    2023-06-16   \n",
       "2       Đường D5, Phường 25, Bình Thạnh, Hồ Chí Minh    2023-08-07   \n",
       "3  Đường Tạ Quang Bửu, Phường 6, Quận 8, Hồ Chí Minh    2023-06-16   \n",
       "4  178A Đường Phan Đăng Lưu, Phường 3, Phú Nhuận,...    2023-03-16   \n",
       "\n",
       "  Ngày hết hạn  Mã tin             Quận                  Đường  Lượt xem  \n",
       "0   2023-07-08    9122   Quận Phú Nhuận  Đường Nguyễn Văn Trỗi        35  \n",
       "1   2023-07-01    8478           Quận 7          Đường Đào Trí        74  \n",
       "2   2023-08-22   11591  Quận Bình Thạnh               Đường D5        88  \n",
       "3   2023-07-01    8580           Quận 8     Đường Tạ Quang Bửu        48  \n",
       "4   2023-03-31    4467   Quận Phú Nhuận    Đường Phan Đăng Lưu        30  "
      ]
     },
     "execution_count": 19,
     "metadata": {},
     "output_type": "execute_result"
    }
   ],
   "source": [
    "df.head()"
   ]
  },
  {
   "cell_type": "markdown",
   "metadata": {},
   "source": [
    "### **Fill data**"
   ]
  },
  {
   "cell_type": "code",
   "execution_count": 20,
   "metadata": {},
   "outputs": [],
   "source": [
    "# Cột Hướng nhà nếu --- thì đổi thành None\n",
    "df['Hướng nhà'] = df['Hướng nhà'].replace('---', None)"
   ]
  },
  {
   "cell_type": "code",
   "execution_count": 21,
   "metadata": {},
   "outputs": [
    {
     "name": "stdout",
     "output_type": "stream",
     "text": [
      "<class 'pandas.core.frame.DataFrame'>\n",
      "RangeIndex: 14890 entries, 0 to 14889\n",
      "Data columns (total 12 columns):\n",
      " #   Column         Non-Null Count  Dtype         \n",
      "---  ------         --------------  -----         \n",
      " 0   Giá            14890 non-null  float64       \n",
      " 1   Diện tích      14890 non-null  float64       \n",
      " 2   Số phòng ngủ   14890 non-null  int64         \n",
      " 3   Số toilet      14890 non-null  int64         \n",
      " 4   Hướng nhà      442 non-null    object        \n",
      " 5   Địa chỉ nhà    14890 non-null  object        \n",
      " 6   Ngày đăng tin  14890 non-null  datetime64[ns]\n",
      " 7   Ngày hết hạn   14890 non-null  datetime64[ns]\n",
      " 8   Mã tin         14890 non-null  int64         \n",
      " 9   Quận           14890 non-null  object        \n",
      " 10  Đường          14854 non-null  object        \n",
      " 11  Lượt xem       14890 non-null  int64         \n",
      "dtypes: datetime64[ns](2), float64(2), int64(4), object(4)\n",
      "memory usage: 1.4+ MB\n"
     ]
    }
   ],
   "source": [
    "df.info()"
   ]
  },
  {
   "cell_type": "markdown",
   "metadata": {},
   "source": [
    "### **Xử lý các giá trị bị thiếu**\n",
    "- **Drop đi các cột có tỷ lệ thiếu > 50%**"
   ]
  },
  {
   "cell_type": "code",
   "execution_count": 22,
   "metadata": {},
   "outputs": [
    {
     "name": "stdout",
     "output_type": "stream",
     "text": [
      "- Số dòng: 14890\n",
      "- Số cột: 11\n"
     ]
    },
    {
     "data": {
      "text/html": [
       "<div>\n",
       "<style scoped>\n",
       "    .dataframe tbody tr th:only-of-type {\n",
       "        vertical-align: middle;\n",
       "    }\n",
       "\n",
       "    .dataframe tbody tr th {\n",
       "        vertical-align: top;\n",
       "    }\n",
       "\n",
       "    .dataframe thead th {\n",
       "        text-align: right;\n",
       "    }\n",
       "</style>\n",
       "<table border=\"1\" class=\"dataframe\">\n",
       "  <thead>\n",
       "    <tr style=\"text-align: right;\">\n",
       "      <th></th>\n",
       "      <th>Giá</th>\n",
       "      <th>Diện tích</th>\n",
       "      <th>Số phòng ngủ</th>\n",
       "      <th>Số toilet</th>\n",
       "      <th>Địa chỉ nhà</th>\n",
       "      <th>Ngày đăng tin</th>\n",
       "      <th>Ngày hết hạn</th>\n",
       "      <th>Mã tin</th>\n",
       "      <th>Quận</th>\n",
       "      <th>Đường</th>\n",
       "      <th>Lượt xem</th>\n",
       "    </tr>\n",
       "  </thead>\n",
       "  <tbody>\n",
       "    <tr>\n",
       "      <th>0</th>\n",
       "      <td>6.5</td>\n",
       "      <td>14.0</td>\n",
       "      <td>0</td>\n",
       "      <td>0</td>\n",
       "      <td>Dự án The Prince Residence, Đường Nguyễn Văn T...</td>\n",
       "      <td>2023-06-23</td>\n",
       "      <td>2023-07-08</td>\n",
       "      <td>9122</td>\n",
       "      <td>Quận Phú Nhuận</td>\n",
       "      <td>Đường Nguyễn Văn Trỗi</td>\n",
       "      <td>35</td>\n",
       "    </tr>\n",
       "    <tr>\n",
       "      <th>1</th>\n",
       "      <td>8.0</td>\n",
       "      <td>68.0</td>\n",
       "      <td>2</td>\n",
       "      <td>2</td>\n",
       "      <td>Dự án Q7 Saigon Riverside, Đường Đào Trí, Phườ...</td>\n",
       "      <td>2023-06-16</td>\n",
       "      <td>2023-07-01</td>\n",
       "      <td>8478</td>\n",
       "      <td>Quận 7</td>\n",
       "      <td>Đường Đào Trí</td>\n",
       "      <td>74</td>\n",
       "    </tr>\n",
       "    <tr>\n",
       "      <th>2</th>\n",
       "      <td>1.3</td>\n",
       "      <td>30.0</td>\n",
       "      <td>0</td>\n",
       "      <td>0</td>\n",
       "      <td>Đường D5, Phường 25, Bình Thạnh, Hồ Chí Minh</td>\n",
       "      <td>2023-08-07</td>\n",
       "      <td>2023-08-22</td>\n",
       "      <td>11591</td>\n",
       "      <td>Quận Bình Thạnh</td>\n",
       "      <td>Đường D5</td>\n",
       "      <td>88</td>\n",
       "    </tr>\n",
       "    <tr>\n",
       "      <th>3</th>\n",
       "      <td>10.0</td>\n",
       "      <td>80.0</td>\n",
       "      <td>2</td>\n",
       "      <td>2</td>\n",
       "      <td>Đường Tạ Quang Bửu, Phường 6, Quận 8, Hồ Chí Minh</td>\n",
       "      <td>2023-06-16</td>\n",
       "      <td>2023-07-01</td>\n",
       "      <td>8580</td>\n",
       "      <td>Quận 8</td>\n",
       "      <td>Đường Tạ Quang Bửu</td>\n",
       "      <td>48</td>\n",
       "    </tr>\n",
       "    <tr>\n",
       "      <th>4</th>\n",
       "      <td>35.0</td>\n",
       "      <td>120.0</td>\n",
       "      <td>5</td>\n",
       "      <td>4</td>\n",
       "      <td>178A Đường Phan Đăng Lưu, Phường 3, Phú Nhuận,...</td>\n",
       "      <td>2023-03-16</td>\n",
       "      <td>2023-03-31</td>\n",
       "      <td>4467</td>\n",
       "      <td>Quận Phú Nhuận</td>\n",
       "      <td>Đường Phan Đăng Lưu</td>\n",
       "      <td>30</td>\n",
       "    </tr>\n",
       "  </tbody>\n",
       "</table>\n",
       "</div>"
      ],
      "text/plain": [
       "    Giá  Diện tích  Số phòng ngủ  Số toilet  \\\n",
       "0   6.5       14.0             0          0   \n",
       "1   8.0       68.0             2          2   \n",
       "2   1.3       30.0             0          0   \n",
       "3  10.0       80.0             2          2   \n",
       "4  35.0      120.0             5          4   \n",
       "\n",
       "                                         Địa chỉ nhà Ngày đăng tin  \\\n",
       "0  Dự án The Prince Residence, Đường Nguyễn Văn T...    2023-06-23   \n",
       "1  Dự án Q7 Saigon Riverside, Đường Đào Trí, Phườ...    2023-06-16   \n",
       "2       Đường D5, Phường 25, Bình Thạnh, Hồ Chí Minh    2023-08-07   \n",
       "3  Đường Tạ Quang Bửu, Phường 6, Quận 8, Hồ Chí Minh    2023-06-16   \n",
       "4  178A Đường Phan Đăng Lưu, Phường 3, Phú Nhuận,...    2023-03-16   \n",
       "\n",
       "  Ngày hết hạn  Mã tin             Quận                  Đường  Lượt xem  \n",
       "0   2023-07-08    9122   Quận Phú Nhuận  Đường Nguyễn Văn Trỗi        35  \n",
       "1   2023-07-01    8478           Quận 7          Đường Đào Trí        74  \n",
       "2   2023-08-22   11591  Quận Bình Thạnh               Đường D5        88  \n",
       "3   2023-07-01    8580           Quận 8     Đường Tạ Quang Bửu        48  \n",
       "4   2023-03-31    4467   Quận Phú Nhuận    Đường Phan Đăng Lưu        30  "
      ]
     },
     "execution_count": 22,
     "metadata": {},
     "output_type": "execute_result"
    }
   ],
   "source": [
    "# YOUR CODE HERE\n",
    "# Hàm drop các cột có tỷ lệ thiếu > 50%\n",
    "def drop_cols(df):\n",
    "    # Tính tỷ lệ thiếu\n",
    "    missing_ratios = df.isnull().mean()\n",
    "    \n",
    "    # Lấy tên các cột có tỷ lệ thiếu > 50%\n",
    "    missing_cols = missing_ratios[missing_ratios > 0.5].index\n",
    "    \n",
    "    # Xóa các cột\n",
    "    df = df.drop(columns=missing_cols)\n",
    "    \n",
    "    return df\n",
    "\n",
    "# YOUR CODE HERE\n",
    "df = drop_cols(df)\n",
    "print(f\"- Số dòng: {df.shape[0]}\")\n",
    "print(f\"- Số cột: {df.shape[1]}\")\n",
    "df.head()"
   ]
  },
  {
   "cell_type": "markdown",
   "metadata": {},
   "source": [
    "- **Drop các dòng bị thiếu tên đường**"
   ]
  },
  {
   "cell_type": "code",
   "execution_count": 23,
   "metadata": {},
   "outputs": [
    {
     "data": {
      "text/html": [
       "<div>\n",
       "<style scoped>\n",
       "    .dataframe tbody tr th:only-of-type {\n",
       "        vertical-align: middle;\n",
       "    }\n",
       "\n",
       "    .dataframe tbody tr th {\n",
       "        vertical-align: top;\n",
       "    }\n",
       "\n",
       "    .dataframe thead th {\n",
       "        text-align: right;\n",
       "    }\n",
       "</style>\n",
       "<table border=\"1\" class=\"dataframe\">\n",
       "  <thead>\n",
       "    <tr style=\"text-align: right;\">\n",
       "      <th></th>\n",
       "      <th>Giá</th>\n",
       "      <th>Diện tích</th>\n",
       "      <th>Số phòng ngủ</th>\n",
       "      <th>Số toilet</th>\n",
       "      <th>Địa chỉ nhà</th>\n",
       "      <th>Ngày đăng tin</th>\n",
       "      <th>Ngày hết hạn</th>\n",
       "      <th>Mã tin</th>\n",
       "      <th>Quận</th>\n",
       "      <th>Đường</th>\n",
       "      <th>Lượt xem</th>\n",
       "    </tr>\n",
       "  </thead>\n",
       "  <tbody>\n",
       "    <tr>\n",
       "      <th>0</th>\n",
       "      <td>6.5</td>\n",
       "      <td>14.0</td>\n",
       "      <td>0</td>\n",
       "      <td>0</td>\n",
       "      <td>Dự án The Prince Residence, Đường Nguyễn Văn T...</td>\n",
       "      <td>2023-06-23</td>\n",
       "      <td>2023-07-08</td>\n",
       "      <td>9122</td>\n",
       "      <td>Quận Phú Nhuận</td>\n",
       "      <td>Đường Nguyễn Văn Trỗi</td>\n",
       "      <td>35</td>\n",
       "    </tr>\n",
       "    <tr>\n",
       "      <th>1</th>\n",
       "      <td>8.0</td>\n",
       "      <td>68.0</td>\n",
       "      <td>2</td>\n",
       "      <td>2</td>\n",
       "      <td>Dự án Q7 Saigon Riverside, Đường Đào Trí, Phườ...</td>\n",
       "      <td>2023-06-16</td>\n",
       "      <td>2023-07-01</td>\n",
       "      <td>8478</td>\n",
       "      <td>Quận 7</td>\n",
       "      <td>Đường Đào Trí</td>\n",
       "      <td>74</td>\n",
       "    </tr>\n",
       "    <tr>\n",
       "      <th>2</th>\n",
       "      <td>1.3</td>\n",
       "      <td>30.0</td>\n",
       "      <td>0</td>\n",
       "      <td>0</td>\n",
       "      <td>Đường D5, Phường 25, Bình Thạnh, Hồ Chí Minh</td>\n",
       "      <td>2023-08-07</td>\n",
       "      <td>2023-08-22</td>\n",
       "      <td>11591</td>\n",
       "      <td>Quận Bình Thạnh</td>\n",
       "      <td>Đường D5</td>\n",
       "      <td>88</td>\n",
       "    </tr>\n",
       "    <tr>\n",
       "      <th>3</th>\n",
       "      <td>10.0</td>\n",
       "      <td>80.0</td>\n",
       "      <td>2</td>\n",
       "      <td>2</td>\n",
       "      <td>Đường Tạ Quang Bửu, Phường 6, Quận 8, Hồ Chí Minh</td>\n",
       "      <td>2023-06-16</td>\n",
       "      <td>2023-07-01</td>\n",
       "      <td>8580</td>\n",
       "      <td>Quận 8</td>\n",
       "      <td>Đường Tạ Quang Bửu</td>\n",
       "      <td>48</td>\n",
       "    </tr>\n",
       "    <tr>\n",
       "      <th>4</th>\n",
       "      <td>35.0</td>\n",
       "      <td>120.0</td>\n",
       "      <td>5</td>\n",
       "      <td>4</td>\n",
       "      <td>178A Đường Phan Đăng Lưu, Phường 3, Phú Nhuận,...</td>\n",
       "      <td>2023-03-16</td>\n",
       "      <td>2023-03-31</td>\n",
       "      <td>4467</td>\n",
       "      <td>Quận Phú Nhuận</td>\n",
       "      <td>Đường Phan Đăng Lưu</td>\n",
       "      <td>30</td>\n",
       "    </tr>\n",
       "  </tbody>\n",
       "</table>\n",
       "</div>"
      ],
      "text/plain": [
       "    Giá  Diện tích  Số phòng ngủ  Số toilet  \\\n",
       "0   6.5       14.0             0          0   \n",
       "1   8.0       68.0             2          2   \n",
       "2   1.3       30.0             0          0   \n",
       "3  10.0       80.0             2          2   \n",
       "4  35.0      120.0             5          4   \n",
       "\n",
       "                                         Địa chỉ nhà Ngày đăng tin  \\\n",
       "0  Dự án The Prince Residence, Đường Nguyễn Văn T...    2023-06-23   \n",
       "1  Dự án Q7 Saigon Riverside, Đường Đào Trí, Phườ...    2023-06-16   \n",
       "2       Đường D5, Phường 25, Bình Thạnh, Hồ Chí Minh    2023-08-07   \n",
       "3  Đường Tạ Quang Bửu, Phường 6, Quận 8, Hồ Chí Minh    2023-06-16   \n",
       "4  178A Đường Phan Đăng Lưu, Phường 3, Phú Nhuận,...    2023-03-16   \n",
       "\n",
       "  Ngày hết hạn  Mã tin             Quận                  Đường  Lượt xem  \n",
       "0   2023-07-08    9122   Quận Phú Nhuận  Đường Nguyễn Văn Trỗi        35  \n",
       "1   2023-07-01    8478           Quận 7          Đường Đào Trí        74  \n",
       "2   2023-08-22   11591  Quận Bình Thạnh               Đường D5        88  \n",
       "3   2023-07-01    8580           Quận 8     Đường Tạ Quang Bửu        48  \n",
       "4   2023-03-31    4467   Quận Phú Nhuận    Đường Phan Đăng Lưu        30  "
      ]
     },
     "execution_count": 23,
     "metadata": {},
     "output_type": "execute_result"
    }
   ],
   "source": [
    "# YOUR CODE HERE\n",
    "# Hàm drop các dòng có giá trị Đường null\n",
    "def drop_rows(df):\n",
    "    # Lấy các dòng có giá trị Đường null\n",
    "    missing_rows = df[df['Đường'].isnull()].index\n",
    "    \n",
    "    # Xóa các dòng\n",
    "    df = df.drop(index=missing_rows)\n",
    "    \n",
    "    return df\n",
    "\n",
    "df = drop_rows(df)\n",
    "df.head()"
   ]
  },
  {
   "cell_type": "markdown",
   "metadata": {},
   "source": [
    "### **Tính giá trị thống kê để đánh giá trường hợp ngoại lệ**"
   ]
  },
  {
   "cell_type": "code",
   "execution_count": 24,
   "metadata": {},
   "outputs": [
    {
     "data": {
      "text/html": [
       "<div>\n",
       "<style scoped>\n",
       "    .dataframe tbody tr th:only-of-type {\n",
       "        vertical-align: middle;\n",
       "    }\n",
       "\n",
       "    .dataframe tbody tr th {\n",
       "        vertical-align: top;\n",
       "    }\n",
       "\n",
       "    .dataframe thead th {\n",
       "        text-align: right;\n",
       "    }\n",
       "</style>\n",
       "<table border=\"1\" class=\"dataframe\">\n",
       "  <thead>\n",
       "    <tr style=\"text-align: right;\">\n",
       "      <th></th>\n",
       "      <th>Giá</th>\n",
       "      <th>Diện tích</th>\n",
       "      <th>Số phòng ngủ</th>\n",
       "      <th>Số toilet</th>\n",
       "      <th>Lượt xem</th>\n",
       "    </tr>\n",
       "  </thead>\n",
       "  <tbody>\n",
       "    <tr>\n",
       "      <th>count</th>\n",
       "      <td>13710.00</td>\n",
       "      <td>13710.00</td>\n",
       "      <td>13710.00</td>\n",
       "      <td>13710.00</td>\n",
       "      <td>13710.00</td>\n",
       "    </tr>\n",
       "    <tr>\n",
       "      <th>mean</th>\n",
       "      <td>36.29</td>\n",
       "      <td>2935.52</td>\n",
       "      <td>2.63</td>\n",
       "      <td>2.39</td>\n",
       "      <td>47.69</td>\n",
       "    </tr>\n",
       "    <tr>\n",
       "      <th>std</th>\n",
       "      <td>51.91</td>\n",
       "      <td>232511.93</td>\n",
       "      <td>3.07</td>\n",
       "      <td>2.78</td>\n",
       "      <td>28.62</td>\n",
       "    </tr>\n",
       "    <tr>\n",
       "      <th>min</th>\n",
       "      <td>1.00</td>\n",
       "      <td>3.00</td>\n",
       "      <td>0.00</td>\n",
       "      <td>0.00</td>\n",
       "      <td>0.00</td>\n",
       "    </tr>\n",
       "    <tr>\n",
       "      <th>25%</th>\n",
       "      <td>16.00</td>\n",
       "      <td>60.00</td>\n",
       "      <td>0.00</td>\n",
       "      <td>0.00</td>\n",
       "      <td>27.00</td>\n",
       "    </tr>\n",
       "    <tr>\n",
       "      <th>50%</th>\n",
       "      <td>25.00</td>\n",
       "      <td>81.00</td>\n",
       "      <td>3.00</td>\n",
       "      <td>2.00</td>\n",
       "      <td>46.00</td>\n",
       "    </tr>\n",
       "    <tr>\n",
       "      <th>75%</th>\n",
       "      <td>37.00</td>\n",
       "      <td>120.00</td>\n",
       "      <td>4.00</td>\n",
       "      <td>4.00</td>\n",
       "      <td>64.00</td>\n",
       "    </tr>\n",
       "    <tr>\n",
       "      <th>max</th>\n",
       "      <td>987.00</td>\n",
       "      <td>19500000.00</td>\n",
       "      <td>170.00</td>\n",
       "      <td>171.00</td>\n",
       "      <td>728.00</td>\n",
       "    </tr>\n",
       "  </tbody>\n",
       "</table>\n",
       "</div>"
      ],
      "text/plain": [
       "           Giá   Diện tích  Số phòng ngủ  Số toilet  Lượt xem\n",
       "count 13710.00    13710.00      13710.00   13710.00  13710.00\n",
       "mean     36.29     2935.52          2.63       2.39     47.69\n",
       "std      51.91   232511.93          3.07       2.78     28.62\n",
       "min       1.00        3.00          0.00       0.00      0.00\n",
       "25%      16.00       60.00          0.00       0.00     27.00\n",
       "50%      25.00       81.00          3.00       2.00     46.00\n",
       "75%      37.00      120.00          4.00       4.00     64.00\n",
       "max     987.00 19500000.00        170.00     171.00    728.00"
      ]
     },
     "execution_count": 24,
     "metadata": {},
     "output_type": "execute_result"
    }
   ],
   "source": [
    "# Lấy ra Diện tích > 0\n",
    "df = df[df['Diện tích'] > 0]\n",
    "# Lấy ra Giá > 0\n",
    "df = df[df['Giá'] > 0]\n",
    "\n",
    "# Tính các giá trị thống kê cơ bản của các cột\n",
    "basic_stats = df[['Giá', 'Diện tích', 'Số phòng ngủ', 'Số toilet', 'Lượt xem']].describe()\n",
    "pd.set_option('display.float_format', '{:.2f}'.format)\n",
    "basic_stats"
   ]
  },
  {
   "cell_type": "markdown",
   "metadata": {},
   "source": [
    "## **Ngoại lệ được xử lý theo Z-score**"
   ]
  },
  {
   "cell_type": "code",
   "execution_count": 25,
   "metadata": {},
   "outputs": [
    {
     "data": {
      "text/plain": [
       "(13289, 11)"
      ]
     },
     "execution_count": 25,
     "metadata": {},
     "output_type": "execute_result"
    }
   ],
   "source": [
    "# Tính Z-score sử dụng dữ liệu từ basic_stats\n",
    "numeric_df = df[['Giá', 'Diện tích', 'Số phòng ngủ', 'Số toilet', 'Lượt xem']]\n",
    "\n",
    "# Lấy giá trị mean và std từ basic_stats\n",
    "means = basic_stats.loc['mean']\n",
    "stds = basic_stats.loc['std']\n",
    "\n",
    "threshold = 3\n",
    "\n",
    "# Tính Z-score cho mỗi cột\n",
    "z_scores_from_basic_stats = (numeric_df - means) / stds\n",
    "\n",
    "# Tìm vị trí của ngoại lệ (Z-score > 3 hoặc < -3)\n",
    "outliers_from_basic_stats = np.where(np.abs(z_scores_from_basic_stats) > threshold)\n",
    "\n",
    "# Lấy các dòng có chứa ít nhất một ngoại lệ\n",
    "outlier_rows_from_basic_stats = df.iloc[outliers_from_basic_stats[0]]\n",
    "\n",
    "df = df.drop(outlier_rows_from_basic_stats.index, axis=0)\n",
    "df.shape"
   ]
  },
  {
   "cell_type": "markdown",
   "metadata": {},
   "source": [
    "### **Với mỗi cột có kiểu dữ liệu số, các giá trị được phân bổ như thế nào?**"
   ]
  },
  {
   "cell_type": "markdown",
   "metadata": {},
   "source": [
    "\n",
    "Đối với các cột có kiểu dữ liệu số, bạn sẽ tính:\n",
    "- Tỷ lệ phần trăm (từ 0 đến 100) giá trị bị thiếu\n",
    "- The min\n",
    "- The lower quartile (phân vị 25)\n",
    "- The median (phân vị 50)\n",
    "- The upper quartile (phân vị 75)\n",
    "- The max"
   ]
  },
  {
   "cell_type": "code",
   "execution_count": 26,
   "metadata": {},
   "outputs": [
    {
     "data": {
      "text/html": [
       "<div>\n",
       "<style scoped>\n",
       "    .dataframe tbody tr th:only-of-type {\n",
       "        vertical-align: middle;\n",
       "    }\n",
       "\n",
       "    .dataframe tbody tr th {\n",
       "        vertical-align: top;\n",
       "    }\n",
       "\n",
       "    .dataframe thead th {\n",
       "        text-align: right;\n",
       "    }\n",
       "</style>\n",
       "<table border=\"1\" class=\"dataframe\">\n",
       "  <thead>\n",
       "    <tr style=\"text-align: right;\">\n",
       "      <th></th>\n",
       "      <th>Giá</th>\n",
       "      <th>Diện tích</th>\n",
       "      <th>Số phòng ngủ</th>\n",
       "      <th>Số toilet</th>\n",
       "      <th>Mã tin</th>\n",
       "      <th>Lượt xem</th>\n",
       "    </tr>\n",
       "  </thead>\n",
       "  <tbody>\n",
       "    <tr>\n",
       "      <th>missing_ratio</th>\n",
       "      <td>0.00</td>\n",
       "      <td>0.00</td>\n",
       "      <td>0.00</td>\n",
       "      <td>0.00</td>\n",
       "      <td>0.00</td>\n",
       "      <td>0.00</td>\n",
       "    </tr>\n",
       "    <tr>\n",
       "      <th>min</th>\n",
       "      <td>1.00</td>\n",
       "      <td>3.00</td>\n",
       "      <td>0.00</td>\n",
       "      <td>0.00</td>\n",
       "      <td>1467.00</td>\n",
       "      <td>0.00</td>\n",
       "    </tr>\n",
       "    <tr>\n",
       "      <th>lower_quartile</th>\n",
       "      <td>16.00</td>\n",
       "      <td>60.00</td>\n",
       "      <td>0.00</td>\n",
       "      <td>0.00</td>\n",
       "      <td>6859.00</td>\n",
       "      <td>27.00</td>\n",
       "    </tr>\n",
       "    <tr>\n",
       "      <th>median</th>\n",
       "      <td>25.00</td>\n",
       "      <td>80.00</td>\n",
       "      <td>3.00</td>\n",
       "      <td>2.00</td>\n",
       "      <td>11608.00</td>\n",
       "      <td>46.00</td>\n",
       "    </tr>\n",
       "    <tr>\n",
       "      <th>upper_quartile</th>\n",
       "      <td>35.00</td>\n",
       "      <td>120.00</td>\n",
       "      <td>4.00</td>\n",
       "      <td>4.00</td>\n",
       "      <td>15369.00</td>\n",
       "      <td>64.00</td>\n",
       "    </tr>\n",
       "    <tr>\n",
       "      <th>max</th>\n",
       "      <td>192.00</td>\n",
       "      <td>15000.00</td>\n",
       "      <td>11.00</td>\n",
       "      <td>10.00</td>\n",
       "      <td>20181.00</td>\n",
       "      <td>133.00</td>\n",
       "    </tr>\n",
       "  </tbody>\n",
       "</table>\n",
       "</div>"
      ],
      "text/plain": [
       "                  Giá  Diện tích  Số phòng ngủ  Số toilet   Mã tin  Lượt xem\n",
       "missing_ratio    0.00       0.00          0.00       0.00     0.00      0.00\n",
       "min              1.00       3.00          0.00       0.00  1467.00      0.00\n",
       "lower_quartile  16.00      60.00          0.00       0.00  6859.00     27.00\n",
       "median          25.00      80.00          3.00       2.00 11608.00     46.00\n",
       "upper_quartile  35.00     120.00          4.00       4.00 15369.00     64.00\n",
       "max            192.00   15000.00         11.00      10.00 20181.00    133.00"
      ]
     },
     "execution_count": 26,
     "metadata": {},
     "output_type": "execute_result"
    }
   ],
   "source": [
    "num_col_info_df = None\n",
    "num_col_info_df = df.select_dtypes(include=['number'])\n",
    "\n",
    "# Hàm tính missing_ratio (tỷ lệ thiếu)\n",
    "def missing_ratio(x):\n",
    "    return (x.isnull().mean() * 100)\n",
    "\n",
    "# Hàm tính lower quartile (phân vị 25)\n",
    "def lower_quartile(x):\n",
    "    return x.quantile(0.25)\n",
    "\n",
    "# Hàm tính median (phân vị 50)\n",
    "def median(x):\n",
    "    return x.quantile(0.5)\n",
    "\n",
    "# Hàm tính upper quartile (phân vị 75)\n",
    "def upper_quartile(x):\n",
    "    return x.quantile(0.75)\n",
    "\n",
    "num_col_info_df = num_col_info_df.agg([missing_ratio, \"min\", lower_quartile, median, upper_quartile, \"max\"])\n",
    "num_col_info_df = num_col_info_df.round(1)\n",
    "num_col_info_df"
   ]
  },
  {
   "cell_type": "markdown",
   "metadata": {},
   "source": [
    "\n",
    "### Với mỗi cột có kiểu dữ liệu không phải số, các giá trị được phân bổ như thế nào?"
   ]
  },
  {
   "cell_type": "markdown",
   "metadata": {},
   "source": [
    "Đối với các cột có kiểu dữ liệu không phải số, bạn tính:\n",
    "- Tỷ lệ phần trăm (từ 0 đến 100) giá trị bị thiếu\n",
    "- Số lượng giá trị (các giá trị khác nhau không tính bị thiếu)\n",
    "- Tỷ lệ phần trăm (từ 0 đến 100) của mỗi giá trị được sắp xếp theo tỷ lệ phần trăm giảm dần (không xét giá trị thiếu, tỷ lệ là tỷ lệ so với số giá trị không thiếu)"
   ]
  },
  {
   "cell_type": "code",
   "execution_count": 27,
   "metadata": {},
   "outputs": [],
   "source": [
    "pd.set_option('display.max_colwidth', 100) # For clearly\n",
    "pd.set_option('display.max_columns', None) # For clearly"
   ]
  },
  {
   "cell_type": "code",
   "execution_count": 28,
   "metadata": {},
   "outputs": [
    {
     "data": {
      "text/html": [
       "<div>\n",
       "<style scoped>\n",
       "    .dataframe tbody tr th:only-of-type {\n",
       "        vertical-align: middle;\n",
       "    }\n",
       "\n",
       "    .dataframe tbody tr th {\n",
       "        vertical-align: top;\n",
       "    }\n",
       "\n",
       "    .dataframe thead th {\n",
       "        text-align: right;\n",
       "    }\n",
       "</style>\n",
       "<table border=\"1\" class=\"dataframe\">\n",
       "  <thead>\n",
       "    <tr style=\"text-align: right;\">\n",
       "      <th></th>\n",
       "      <th>Địa chỉ nhà</th>\n",
       "      <th>Ngày đăng tin</th>\n",
       "      <th>Ngày hết hạn</th>\n",
       "      <th>Quận</th>\n",
       "      <th>Đường</th>\n",
       "    </tr>\n",
       "  </thead>\n",
       "  <tbody>\n",
       "    <tr>\n",
       "      <th>missing_ratio</th>\n",
       "      <td>0.00</td>\n",
       "      <td>0.00</td>\n",
       "      <td>0.00</td>\n",
       "      <td>0.00</td>\n",
       "      <td>0.00</td>\n",
       "    </tr>\n",
       "    <tr>\n",
       "      <th>num_values</th>\n",
       "      <td>6826</td>\n",
       "      <td>302</td>\n",
       "      <td>302</td>\n",
       "      <td>23</td>\n",
       "      <td>1018</td>\n",
       "    </tr>\n",
       "    <tr>\n",
       "      <th>value_ratios</th>\n",
       "      <td>{'Đường Sư Vạn Hạnh, Phường 12, Quận 10, Hồ Chí Minh': 0.5, 'Đường Bạch Đằng, Phường 2, Tân Bình...</td>\n",
       "      <td>{2023-08-07 00:00:00: 1.3, 2023-07-17 00:00:00: 1.2, 2023-07-18 00:00:00: 1.2, 2023-07-14 00:00:...</td>\n",
       "      <td>{2023-08-22 00:00:00: 1.3, 2023-08-01 00:00:00: 1.2, 2023-08-02 00:00:00: 1.2, 2023-07-29 00:00:...</td>\n",
       "      <td>{'Quận Tân Bình': 19.0, 'Quận Phú Nhuận': 18.2, 'Quận 10': 10.9, 'Quận 3': 10.7, 'Quận Bình Thạn...</td>\n",
       "      <td>{'Đường Lê Văn Sỹ': 3.5, 'Đường Cách Mạng Tháng Tám': 2.8, 'Đường Huỳnh Văn Bánh': 2.2, 'Đường 3...</td>\n",
       "    </tr>\n",
       "  </tbody>\n",
       "</table>\n",
       "</div>"
      ],
      "text/plain": [
       "                                                                                                       Địa chỉ nhà  \\\n",
       "missing_ratio                                                                                                 0.00   \n",
       "num_values                                                                                                    6826   \n",
       "value_ratios   {'Đường Sư Vạn Hạnh, Phường 12, Quận 10, Hồ Chí Minh': 0.5, 'Đường Bạch Đằng, Phường 2, Tân Bình...   \n",
       "\n",
       "                                                                                                     Ngày đăng tin  \\\n",
       "missing_ratio                                                                                                 0.00   \n",
       "num_values                                                                                                     302   \n",
       "value_ratios   {2023-08-07 00:00:00: 1.3, 2023-07-17 00:00:00: 1.2, 2023-07-18 00:00:00: 1.2, 2023-07-14 00:00:...   \n",
       "\n",
       "                                                                                                      Ngày hết hạn  \\\n",
       "missing_ratio                                                                                                 0.00   \n",
       "num_values                                                                                                     302   \n",
       "value_ratios   {2023-08-22 00:00:00: 1.3, 2023-08-01 00:00:00: 1.2, 2023-08-02 00:00:00: 1.2, 2023-07-29 00:00:...   \n",
       "\n",
       "                                                                                                              Quận  \\\n",
       "missing_ratio                                                                                                 0.00   \n",
       "num_values                                                                                                      23   \n",
       "value_ratios   {'Quận Tân Bình': 19.0, 'Quận Phú Nhuận': 18.2, 'Quận 10': 10.9, 'Quận 3': 10.7, 'Quận Bình Thạn...   \n",
       "\n",
       "                                                                                                             Đường  \n",
       "missing_ratio                                                                                                 0.00  \n",
       "num_values                                                                                                    1018  \n",
       "value_ratios   {'Đường Lê Văn Sỹ': 3.5, 'Đường Cách Mạng Tháng Tám': 2.8, 'Đường Huỳnh Văn Bánh': 2.2, 'Đường 3...  "
      ]
     },
     "execution_count": 28,
     "metadata": {},
     "output_type": "execute_result"
    }
   ],
   "source": [
    "cat_col_info_df = df.select_dtypes(exclude=['number'])\n",
    "cat_col_info_df\n",
    "\n",
    "# Hàm để tính tỷ lệ còn thiếu\n",
    "def missing_ratio(x):\n",
    "    return (x.isnull().mean() * 100).round(1)\n",
    "\n",
    "# Hàm để tính số lượng giá trị duy nhất (đếm các giá trị không thiếu)\n",
    "def num_values(x):\n",
    "    return len(x.dropna().unique())\n",
    "\n",
    "# Hàm để tính các tỷ lệ giá trị\n",
    "def value_ratios(x):\n",
    "    # Tạo một Series với tỷ lệ xuất hiện của từng giá trị\n",
    "    value_counts = x.value_counts(normalize=True)\n",
    "\n",
    "    # Sắp xếp theo tỷ lệ giảm dần\n",
    "    sorted_value_counts = value_counts.sort_values(ascending=False)\n",
    "    \n",
    "    # Lưu vào từ điển\n",
    "    value_ratios = {value: round(percentage * 100,1) for value, percentage in sorted_value_counts.items()}\n",
    "    \n",
    "    return value_ratios\n",
    "\n",
    "# Gán DataFrame mới để lưu kết quả\n",
    "\n",
    "cat_col_info_df = cat_col_info_df.agg([missing_ratio, num_values, value_ratios])\n",
    "cat_col_info_df"
   ]
  },
  {
   "cell_type": "code",
   "execution_count": 29,
   "metadata": {},
   "outputs": [
    {
     "name": "stdout",
     "output_type": "stream",
     "text": [
      "- Tổng các cột (các loại dữ liệu có thể khai thác): 11\n"
     ]
    },
    {
     "data": {
      "text/plain": [
       "Giá                     float64\n",
       "Diện tích               float64\n",
       "Số phòng ngủ              int64\n",
       "Số toilet                 int64\n",
       "Địa chỉ nhà              object\n",
       "Ngày đăng tin    datetime64[ns]\n",
       "Ngày hết hạn     datetime64[ns]\n",
       "Mã tin                    int64\n",
       "Quận                     object\n",
       "Đường                    object\n",
       "Lượt xem                  int64\n",
       "dtype: object"
      ]
     },
     "execution_count": 29,
     "metadata": {},
     "output_type": "execute_result"
    }
   ],
   "source": [
    "print(f\"- Tổng các cột (các loại dữ liệu có thể khai thác): {df.shape[1]}\")\n",
    "df.dtypes"
   ]
  },
  {
   "cell_type": "code",
   "execution_count": 30,
   "metadata": {},
   "outputs": [
    {
     "data": {
      "text/plain": [
       "(13289, 11)"
      ]
     },
     "execution_count": 30,
     "metadata": {},
     "output_type": "execute_result"
    }
   ],
   "source": [
    "df.shape"
   ]
  },
  {
   "cell_type": "code",
   "execution_count": 31,
   "metadata": {},
   "outputs": [],
   "source": [
    "# lưu vào kq.csv\n",
    "df.to_csv('preproces_data.csv', index=False)"
   ]
  }
 ],
 "metadata": {
  "kernelspec": {
   "display_name": "min_ds-env",
   "language": "python",
   "name": "python3"
  },
  "language_info": {
   "codemirror_mode": {
    "name": "ipython",
    "version": 3
   },
   "file_extension": ".py",
   "mimetype": "text/x-python",
   "name": "python",
   "nbconvert_exporter": "python",
   "pygments_lexer": "ipython3",
   "version": "3.10.8"
  }
 },
 "nbformat": 4,
 "nbformat_minor": 2
}
